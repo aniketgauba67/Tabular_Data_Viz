{
 "cells": [
  {
   "cell_type": "code",
   "execution_count": 3,
   "id": "9d35708e-449f-45bd-9195-aecb714261d2",
   "metadata": {},
   "outputs": [],
   "source": [
    "import pandas as pd"
   ]
  },
  {
   "cell_type": "code",
   "execution_count": null,
   "id": "277cae5b-2d37-421a-bca5-2f9588ccdac8",
   "metadata": {},
   "outputs": [],
   "source": [
    "df_gss_sample = pd.read_csv('gss_sample.csv', index_col = 0, low_memory = False, encoding = 'utf8')\n",
    "df_gss_full = pd.read_csv('GSS_data.csv', index_col = 0, low_memory = False, encoding = 'utf8')"
   ]
  },
  {
   "cell_type": "code",
   "execution_count": 5,
   "id": "391d3217-af95-4df5-bbfb-679aaaf59bfc",
   "metadata": {},
   "outputs": [],
   "source": [
    "subset_sample = df_gss_sample[['year', 'age', 'relig', 'partyid', 'income', 'region', 'race', 'hapmar', 'abdefect', 'abnomore', 'abhlth', 'abpoor', 'abrape', 'absingle', 'abany', 'childs']]"
   ]
  },
  {
   "cell_type": "code",
   "execution_count": 9,
   "id": "12b0b0a3-09cb-4a24-9eb9-b8047cf9e45f",
   "metadata": {},
   "outputs": [],
   "source": [
    "subset_full = df_gss_full[['year', 'age', 'relig', 'partyid', 'income', 'region', 'race', 'hapmar', 'abdefect', 'abnomore', 'abhlth', 'abpoor', 'abrape', 'absingle', 'abany', 'childs']]"
   ]
  },
  {
   "cell_type": "code",
   "execution_count": 13,
   "id": "121d813f-a435-4045-801e-f76b34cf49d2",
   "metadata": {},
   "outputs": [],
   "source": [
    "subset_sample.to_csv('subset_sample.csv')"
   ]
  },
  {
   "cell_type": "code",
   "execution_count": 15,
   "id": "5010616d-8f0b-4e06-ac16-0b844e62db83",
   "metadata": {},
   "outputs": [],
   "source": [
    "subset_full.to_csv('subset_full.csv')"
   ]
  },
  {
   "cell_type": "code",
   "execution_count": null,
   "id": "f340d274-27ca-4a75-b030-f5424cbb4a50",
   "metadata": {},
   "outputs": [],
   "source": []
  }
 ],
 "metadata": {
  "kernelspec": {
   "display_name": "Python 3 (ipykernel)",
   "language": "python",
   "name": "python3"
  },
  "language_info": {
   "codemirror_mode": {
    "name": "ipython",
    "version": 3
   },
   "file_extension": ".py",
   "mimetype": "text/x-python",
   "name": "python",
   "nbconvert_exporter": "python",
   "pygments_lexer": "ipython3",
   "version": "3.12.4"
  }
 },
 "nbformat": 4,
 "nbformat_minor": 5
}
